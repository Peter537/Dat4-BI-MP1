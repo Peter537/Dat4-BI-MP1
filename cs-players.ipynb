{
 "cells": [
  {
   "cell_type": "code",
   "execution_count": 12,
   "metadata": {},
   "outputs": [
    {
     "name": "stdout",
     "output_type": "stream",
     "text": [
      "1 files found\n",
      "(5990, 3)\n",
      "              Datetime Player count Average\n",
      "1  2011-11-30 00:00:00          680     NaN\n",
      "2  2011-12-01 00:00:00          NaN     NaN\n",
      "3  2011-12-02 00:00:00          NaN     NaN\n",
      "4  2011-12-03 00:00:00          NaN     NaN\n",
      "5  2011-12-04 00:00:00          NaN     NaN\n",
      "Datetime           0\n",
      "Player count     163\n",
      "Average         4790\n",
      "dtype: int64\n"
     ]
    }
   ],
   "source": [
    "import pandas as pd\n",
    "import xlsxloader as xl\n",
    "\n",
    "df = xl.XlsxLoader.load_data()[0]\n",
    "\n",
    "df = df.iloc[1: , :]\n",
    "df = df.rename(columns = {\"Chart\": \"Datetime\", \"Unnamed: 1\": \"Player count\", \"Unnamed: 2\": \"Average\"})\n",
    "\n",
    "print(df.shape)\n",
    "print(df.isnull().sum()) # This provides a large number of missing values on second column as the average is only taken "
   ]
  },
  {
   "cell_type": "code",
   "execution_count": null,
   "metadata": {},
   "outputs": [],
   "source": []
  }
 ],
 "metadata": {
  "kernelspec": {
   "display_name": "Python 3",
   "language": "python",
   "name": "python3"
  },
  "language_info": {
   "codemirror_mode": {
    "name": "ipython",
    "version": 3
   },
   "file_extension": ".py",
   "mimetype": "text/x-python",
   "name": "python",
   "nbconvert_exporter": "python",
   "pygments_lexer": "ipython3",
   "version": "3.12.1"
  }
 },
 "nbformat": 4,
 "nbformat_minor": 2
}
