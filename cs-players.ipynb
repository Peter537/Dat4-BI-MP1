{
 "cells": [
  {
   "cell_type": "code",
   "execution_count": 1,
   "metadata": {},
   "outputs": [
    {
     "name": "stdout",
     "output_type": "stream",
     "text": [
      "2 files found\n",
      "[                    Chart Unnamed: 1       Unnamed: 2\n",
      "0                DateTime    Players  Average Players\n",
      "1     2011-11-30 00:00:00        680              NaN\n",
      "2     2011-12-01 00:00:00        NaN              NaN\n",
      "3     2011-12-02 00:00:00        NaN              NaN\n",
      "4     2011-12-03 00:00:00        NaN              NaN\n",
      "...                   ...        ...              ...\n",
      "5986  2024-02-06 07:20:00     659301              NaN\n",
      "5987  2024-02-06 07:30:00     665279              NaN\n",
      "5988  2024-02-06 07:40:00     661783              NaN\n",
      "5989  2024-02-06 07:50:00     668923              NaN\n",
      "5990  2024-02-06 08:00:00     674556           727154\n",
      "\n",
      "[5991 rows x 3 columns],                     Chart Unnamed: 1       Unnamed: 2\n",
      "0                DateTime    Players  Average Players\n",
      "1     2011-11-30 00:00:00        680              NaN\n",
      "2     2011-12-01 00:00:00        NaN              NaN\n",
      "3     2011-12-02 00:00:00        NaN              NaN\n",
      "4     2011-12-03 00:00:00        NaN              NaN\n",
      "...                   ...        ...              ...\n",
      "5986  2024-02-06 07:20:00     659301              NaN\n",
      "5987  2024-02-06 07:30:00     665279              NaN\n",
      "5988  2024-02-06 07:40:00     661783              NaN\n",
      "5989  2024-02-06 07:50:00     668923              NaN\n",
      "5990  2024-02-06 08:00:00     674556           727154\n",
      "\n",
      "[5991 rows x 3 columns]]\n"
     ]
    }
   ],
   "source": [
    "import pandas as pd\n",
    "import glob\n",
    "import xlsxloader as xl\n",
    "\n",
    "print(xl.XlsxLoader.load_data())"
   ]
  },
  {
   "cell_type": "code",
   "execution_count": null,
   "metadata": {},
   "outputs": [],
   "source": []
  }
 ],
 "metadata": {
  "kernelspec": {
   "display_name": "Python 3",
   "language": "python",
   "name": "python3"
  },
  "language_info": {
   "codemirror_mode": {
    "name": "ipython",
    "version": 3
   },
   "file_extension": ".py",
   "mimetype": "text/x-python",
   "name": "python",
   "nbconvert_exporter": "python",
   "pygments_lexer": "ipython3",
   "version": "3.12.1"
  }
 },
 "nbformat": 4,
 "nbformat_minor": 2
}
